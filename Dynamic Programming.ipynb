{
 "cells": [
  {
   "cell_type": "markdown",
   "id": "25a6ecd2",
   "metadata": {},
   "source": [
    "## Nth fibbonacci number"
   ]
  },
  {
   "cell_type": "code",
   "execution_count": 9,
   "id": "a4ae118c",
   "metadata": {},
   "outputs": [
    {
     "name": "stdout",
     "output_type": "stream",
     "text": [
      "10\n",
      "55\n"
     ]
    }
   ],
   "source": [
    "# Using simple recursion\n",
    "def fibb(n):\n",
    "    if n == 0 or n == 1:\n",
    "        return n\n",
    "    ans1 = fibb(n-1)\n",
    "    ans2 = fibb(n-2)\n",
    "    \n",
    "    myAns = ans1 + ans2\n",
    "    return myAns\n",
    "\n",
    "n = int(input())\n",
    "print(fibb(n))"
   ]
  },
  {
   "cell_type": "code",
   "execution_count": 11,
   "id": "d469ac4e",
   "metadata": {},
   "outputs": [
    {
     "name": "stdout",
     "output_type": "stream",
     "text": [
      "100\n",
      "354224848179261915075\n"
     ]
    }
   ],
   "source": [
    "# Using DP\n",
    "# This algo is very fast compared to the above one\n",
    "def fibb(n,dp):\n",
    "    if n == 0 or n == 1:\n",
    "        return n\n",
    "    \n",
    "    if dp[n-1] == -1:\n",
    "        ans1 = fibb(n-1,dp)\n",
    "        dp[n-1] = ans1\n",
    "    else:\n",
    "        ans1 = dp[n-1]\n",
    "        \n",
    "    if dp[n-2] == -1:\n",
    "        ans2 = fibb(n-2,dp)\n",
    "        dp[n-2] = ans2\n",
    "    else:\n",
    "        ans2 = dp[n-2]\n",
    "    myAns = ans1 + ans2\n",
    "    return myAns\n",
    "\n",
    "n = int(input())\n",
    "dp = [-1 for i in range(n+1)]\n",
    "print(fibb(n,dp))"
   ]
  },
  {
   "cell_type": "code",
   "execution_count": 14,
   "id": "735a9073",
   "metadata": {},
   "outputs": [
    {
     "name": "stdout",
     "output_type": "stream",
     "text": [
      "8\n",
      "21\n"
     ]
    }
   ],
   "source": [
    "# Using iterative DP\n",
    "def fibbI(n):\n",
    "    dp = [0 for i in range(n+1)]\n",
    "    dp[0] = 0\n",
    "    dp[1] = 1\n",
    "    \n",
    "    i = 2\n",
    "    while i <= n:\n",
    "        dp[i] = dp[i-1] + dp[i-2]\n",
    "        i += 1\n",
    "        \n",
    "    return dp[n]\n",
    "\n",
    "n = int(input())\n",
    "print(fibbI(n))"
   ]
  },
  {
   "cell_type": "markdown",
   "id": "6c706da6",
   "metadata": {},
   "source": [
    "## Minimum steps to 1"
   ]
  },
  {
   "cell_type": "code",
   "execution_count": 19,
   "id": "d70bbd5a",
   "metadata": {},
   "outputs": [
    {
     "name": "stdout",
     "output_type": "stream",
     "text": [
      "100\n",
      "7\n"
     ]
    }
   ],
   "source": [
    "# Recursive Solution\n",
    "def countMinStepsToOne(n):\n",
    "    #base case\n",
    "    if n == 1:\n",
    "        return 0\n",
    "    ans1 = countMinStepsToOne(n-1)\n",
    "    \n",
    "    ans2 = 999999\n",
    "    if n % 2 == 0:\n",
    "        ans2 = countMinStepsToOne(n/2)\n",
    "    \n",
    "    ans3 = 999999\n",
    "    if n % 3 == 0:\n",
    "        ans3 = countMinStepsToOne(n/3)\n",
    "    \n",
    "    myAns = 1 + min(ans1,ans2,ans3)\n",
    "    return myAns\n",
    "\n",
    "n = int(input())\n",
    "print(countMinStepsToOne(n))"
   ]
  },
  {
   "cell_type": "code",
   "execution_count": 21,
   "id": "6555cc1c",
   "metadata": {},
   "outputs": [
    {
     "name": "stdout",
     "output_type": "stream",
     "text": [
      "10\n",
      "3\n"
     ]
    }
   ],
   "source": [
    "# Using memoization with recursion\n",
    "def countMinStepsToOne(n,dp):\n",
    "    #base case\n",
    "    if n == 1:\n",
    "        return 0\n",
    "    \n",
    "    if dp[n-1] == -1:\n",
    "        ans1 = countMinStepsToOne(n-1,dp)\n",
    "        dp[n-1] = ans1\n",
    "    else:\n",
    "        ans1 = dp[n-1]\n",
    "    \n",
    "    ans2 = 999999\n",
    "    if n % 2 == 0:\n",
    "        if dp[n//2] == -1:\n",
    "            ans2 = countMinStepsToOne(n//2,dp)\n",
    "            dp[n//2] = ans2\n",
    "        else:\n",
    "            ans2 = dp[n//2]\n",
    "    \n",
    "    ans3 = 999999\n",
    "    if n % 3 == 0:\n",
    "        if dp[n//3] == -1:\n",
    "            ans3 = countMinStepsToOne(n//3,dp)\n",
    "            dp[n//3] = ans3\n",
    "        else:\n",
    "            ans3 = dp[n//3]\n",
    "    \n",
    "    myAns = 1 + min(ans1,ans2,ans3)\n",
    "    return myAns\n",
    "\n",
    "n = int(input())\n",
    "dp = [-1 for i in range(n)]\n",
    "print(countMinStepsToOne(n,dp))"
   ]
  },
  {
   "cell_type": "code",
   "execution_count": 24,
   "id": "a5637819",
   "metadata": {},
   "outputs": [
    {
     "name": "stdout",
     "output_type": "stream",
     "text": [
      "1000\n",
      "9\n"
     ]
    }
   ],
   "source": [
    "# Using Iterative solution with DP\n",
    "def countMinStepsToOne(n):\n",
    "    dp = [-1 for i in range(n+1)]\n",
    "    dp[1] = 0\n",
    "    i = 2\n",
    "    while i <= n:\n",
    "        ans1 = dp[i-1]\n",
    "        \n",
    "        ans2 = 999999\n",
    "        if i % 2 == 0:\n",
    "            ans2 = dp[i//2]\n",
    "        \n",
    "        ans3 = 999999\n",
    "        if i % 3 == 0:\n",
    "            ans3 = dp[i//3]\n",
    "            \n",
    "        dp[i] = 1 + min(ans1,ans2,ans3)\n",
    "        i += 1\n",
    "    return dp[n]\n",
    "    \n",
    "n = int(input())\n",
    "print(countMinStepsToOne(n))"
   ]
  },
  {
   "cell_type": "markdown",
   "id": "4d417b0f",
   "metadata": {},
   "source": [
    "## Minimum no. of squares to reach a given number n"
   ]
  },
  {
   "cell_type": "code",
   "execution_count": 37,
   "id": "d69c1adf",
   "metadata": {},
   "outputs": [
    {
     "name": "stdout",
     "output_type": "stream",
     "text": [
      "9\n",
      "1\n"
     ]
    }
   ],
   "source": [
    "# Recursive solution\n",
    "import sys\n",
    "def minSquares(n):\n",
    "    if n == 0:\n",
    "        return 0\n",
    "    ans = sys.maxsize\n",
    "    i = 1\n",
    "    while i*i <= n:\n",
    "        curr_ans = 1 + minSquares(n - (i*i))\n",
    "        ans = min(ans,curr_ans)\n",
    "        i += 1\n",
    "    return ans\n",
    "\n",
    "n = int(input())\n",
    "print(minSquares(n))"
   ]
  },
  {
   "cell_type": "code",
   "execution_count": 43,
   "id": "2a848c65",
   "metadata": {},
   "outputs": [
    {
     "name": "stdout",
     "output_type": "stream",
     "text": [
      "3\n",
      "3\n"
     ]
    }
   ],
   "source": [
    "# Recursion with memoisation\n",
    "import sys\n",
    "def minSquares(n,dp):\n",
    "    if n == 0:\n",
    "        return 0\n",
    "    ans = sys.maxsize\n",
    "    i = 1\n",
    "    while i*i <= n:\n",
    "        if dp[n-(i*i)] == -1:\n",
    "            curr_ans = minSquares(n - (i*i),dp)\n",
    "            dp[n-(i*i)] = curr_ans\n",
    "        else:\n",
    "            curr_ans = dp[n-(i*i)]\n",
    "            \n",
    "        ans = min(ans,curr_ans)\n",
    "        i += 1\n",
    "    return 1 + ans\n",
    "\n",
    "n = int(input())\n",
    "dp = [-1 for i in range(n+1)]\n",
    "print(minSquares(n,dp))"
   ]
  },
  {
   "cell_type": "code",
   "execution_count": 50,
   "id": "6f4033d6",
   "metadata": {},
   "outputs": [
    {
     "name": "stdout",
     "output_type": "stream",
     "text": [
      "28\n",
      "4\n"
     ]
    }
   ],
   "source": [
    "# Iterative solution\n",
    "# O(nrootn)\n",
    "import sys\n",
    "def minSquares(n):\n",
    "    dp = [-1 for i in range(n+1)]\n",
    "    dp[0] = 0\n",
    "    for i in range(1,n+1):\n",
    "        j = 1\n",
    "        ans = sys.maxsize\n",
    "        while j*j <= i:\n",
    "            curr_ans = dp[i-(j*j)]\n",
    "            ans = min(ans,curr_ans)\n",
    "            j += 1\n",
    "        dp[i] = 1 + ans\n",
    "    return dp[n]\n",
    "\n",
    "n = int(input())\n",
    "print(minSquares(n))"
   ]
  },
  {
   "cell_type": "markdown",
   "id": "e53d2311",
   "metadata": {},
   "source": [
    "## Length of longest increasing subsequence"
   ]
  },
  {
   "cell_type": "code",
   "execution_count": 56,
   "id": "2319875e",
   "metadata": {},
   "outputs": [
    {
     "name": "stdout",
     "output_type": "stream",
     "text": [
      "6 3 1 2 7 0 9 8 10\n",
      "5\n"
     ]
    }
   ],
   "source": [
    "# Recursive Solution\n",
    "def lis(li,i,n):\n",
    "    if i == n:\n",
    "        return 0,0\n",
    "    \n",
    "    including_max = 1\n",
    "    for j in range(i+1,n):\n",
    "        if li[j] > li[i]:\n",
    "            further_including_max = lis(li,j,n)[0]\n",
    "            including_max = max(including_max,1 + further_including_max)\n",
    "    \n",
    "    excluding_max = lis(li,i+1,n)[1]\n",
    "    overallMax = max(including_max,excluding_max)\n",
    "    return including_max,overallMax\n",
    "\n",
    "li = [int(ele) for ele in input().split()]\n",
    "n = len(li)\n",
    "ans = lis(li,0,n)[1]\n",
    "print(ans)"
   ]
  },
  {
   "cell_type": "code",
   "execution_count": 85,
   "id": "93447687",
   "metadata": {},
   "outputs": [
    {
     "name": "stdout",
     "output_type": "stream",
     "text": [
      "6 3 1 2 7 0 9 8\n",
      "4\n"
     ]
    }
   ],
   "source": [
    "# Recursive Solution with Memoisation\n",
    "def lis(li,i,n,dp):\n",
    "    if i == n:\n",
    "        return 0,0\n",
    "    \n",
    "    including_max = 1\n",
    "    for j in range(i+1,n):\n",
    "        if li[j] > li[i]:\n",
    "            if dp[j] == -1:\n",
    "                ans = lis(li,j,n,dp)\n",
    "                dp[j] = ans\n",
    "                further_including_max = ans[0]\n",
    "            else:\n",
    "                further_including_max = dp[j][0]\n",
    "            \n",
    "            including_max = max(including_max,1 + further_including_max)\n",
    "    if dp[i+1] == -1:\n",
    "        ans = lis(li,i+1,n,dp)\n",
    "        dp[i+1] = ans\n",
    "        excluding_max = ans[1]\n",
    "    else:\n",
    "        excluding_max = dp[i+1][1]\n",
    "    \n",
    "    overallMax = max(including_max,excluding_max)\n",
    "    return including_max,overallMax\n",
    "\n",
    "li = [int(ele) for ele in input().split()]\n",
    "n = len(li)\n",
    "dp = [-1 for i in range(n+1)]\n",
    "ans = lis(li,0,n,dp)[1]\n",
    "print(ans)"
   ]
  },
  {
   "cell_type": "code",
   "execution_count": 88,
   "id": "cb1f31f3",
   "metadata": {},
   "outputs": [
    {
     "name": "stdout",
     "output_type": "stream",
     "text": [
      "6 0 3 2 7 0 9 8\n",
      "4\n"
     ]
    }
   ],
   "source": [
    "# Iterative Solution\n",
    "def lis(li,n):\n",
    "    \n",
    "    dp=[[0 for j in range(2) ]for i in range(n+1)]\n",
    "    \n",
    "    for i in range(n-1,-1,-1):\n",
    "        including_max=1\n",
    "        for j in range(i+1,n):\n",
    "            if li[j]>li[i]:\n",
    "                including_max=max(including_max,1+dp[j][0])\n",
    "        dp[i][0]=including_max\n",
    "        excluding_max=dp[i+1][1]\n",
    "        overallMax=max(including_max,excluding_max)\n",
    "        dp[i][1]=overallMax\n",
    "    return dp[0][1]\n",
    "\n",
    "li = [int(ele) for ele in input().split()]\n",
    "n = len(li)\n",
    "print(lis(li,n))"
   ]
  },
  {
   "cell_type": "markdown",
   "id": "867ad5d2",
   "metadata": {},
   "source": [
    "## Another approach as per hint"
   ]
  },
  {
   "cell_type": "code",
   "execution_count": 68,
   "id": "d8ab62ba",
   "metadata": {},
   "outputs": [
    {
     "name": "stdout",
     "output_type": "stream",
     "text": [
      "1 2 2\n",
      "2 1\n",
      "1\n"
     ]
    }
   ],
   "source": [
    "def lis(li,n):\n",
    "    dp = [-1 for i in range(n+1)]\n",
    "    dp[1] = 1\n",
    "    for i in range(2,n):\n",
    "        ans = -999999\n",
    "        for j in range(i-1,0,-1):\n",
    "            print(i,j)\n",
    "            if li[i] > li[j]:\n",
    "                curr_ans = 1 + dp[j]\n",
    "            else:\n",
    "                curr_ans = dp[j]\n",
    "            ans = max(ans,curr_ans)\n",
    "        dp[i] = ans\n",
    "    return max(dp)\n",
    "\n",
    "li = [int(ele) for ele in input().split()]\n",
    "print(lis(li,len(li)))"
   ]
  },
  {
   "cell_type": "code",
   "execution_count": 62,
   "id": "f4912658",
   "metadata": {},
   "outputs": [
    {
     "data": {
      "text/plain": [
       "5"
      ]
     },
     "execution_count": 62,
     "metadata": {},
     "output_type": "execute_result"
    }
   ],
   "source": [
    "max([3,1,2,5])"
   ]
  },
  {
   "cell_type": "code",
   "execution_count": 84,
   "id": "1ccb46f1",
   "metadata": {},
   "outputs": [
    {
     "name": "stdout",
     "output_type": "stream",
     "text": [
      "1 2 3 1 2\n",
      "3\n"
     ]
    }
   ],
   "source": [
    "def lis(li,n):\n",
    "    dp = [-1 for i in range(n)]\n",
    "    dp[0] = 1\n",
    "#     dp[1] = 1\n",
    "    for i in range(1,n):\n",
    "        ans = 0\n",
    "        for j in range(i-1,-1,-1):\n",
    "            if li[i] > li[j]:\n",
    "                curr_ans = 1 + dp[j]\n",
    "                if curr_ans > ans:\n",
    "                    ans = curr_ans\n",
    "#             ans = max(ans,curr_ans)\n",
    "        dp[i] = ans\n",
    "#     print(dp)\n",
    "    return max(dp)\n",
    "\n",
    "li = [int(ele) for ele in input().split()]\n",
    "print(lis(li,len(li)))"
   ]
  }
 ],
 "metadata": {
  "kernelspec": {
   "display_name": "Python 3 (ipykernel)",
   "language": "python",
   "name": "python3"
  },
  "language_info": {
   "codemirror_mode": {
    "name": "ipython",
    "version": 3
   },
   "file_extension": ".py",
   "mimetype": "text/x-python",
   "name": "python",
   "nbconvert_exporter": "python",
   "pygments_lexer": "ipython3",
   "version": "3.9.12"
  }
 },
 "nbformat": 4,
 "nbformat_minor": 5
}
