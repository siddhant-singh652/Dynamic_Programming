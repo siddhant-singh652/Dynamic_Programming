{
 "cells": [
  {
   "cell_type": "markdown",
   "id": "a4a8f1c4",
   "metadata": {},
   "source": [
    "## Nth fibbonacci number"
   ]
  },
  {
   "cell_type": "code",
   "execution_count": 9,
   "id": "ef80f361",
   "metadata": {},
   "outputs": [
    {
     "name": "stdout",
     "output_type": "stream",
     "text": [
      "10\n",
      "55\n"
     ]
    }
   ],
   "source": [
    "# Using simple recursion\n",
    "def fibb(n):\n",
    "    if n == 0 or n == 1:\n",
    "        return n\n",
    "    ans1 = fibb(n-1)\n",
    "    ans2 = fibb(n-2)\n",
    "    \n",
    "    myAns = ans1 + ans2\n",
    "    return myAns\n",
    "\n",
    "n = int(input())\n",
    "print(fibb(n))"
   ]
  },
  {
   "cell_type": "code",
   "execution_count": 11,
   "id": "616f4d08",
   "metadata": {},
   "outputs": [
    {
     "name": "stdout",
     "output_type": "stream",
     "text": [
      "100\n",
      "354224848179261915075\n"
     ]
    }
   ],
   "source": [
    "# Using DP\n",
    "# This algo is very fast compared to the above one\n",
    "def fibb(n,dp):\n",
    "    if n == 0 or n == 1:\n",
    "        return n\n",
    "    \n",
    "    if dp[n-1] == -1:\n",
    "        ans1 = fibb(n-1,dp)\n",
    "        dp[n-1] = ans1\n",
    "    else:\n",
    "        ans1 = dp[n-1]\n",
    "        \n",
    "    if dp[n-2] == -1:\n",
    "        ans2 = fibb(n-2,dp)\n",
    "        dp[n-2] = ans2\n",
    "    else:\n",
    "        ans2 = dp[n-2]\n",
    "    myAns = ans1 + ans2\n",
    "    return myAns\n",
    "\n",
    "n = int(input())\n",
    "dp = [-1 for i in range(n+1)]\n",
    "print(fibb(n,dp))"
   ]
  },
  {
   "cell_type": "code",
   "execution_count": 14,
   "id": "8d7d8ec7",
   "metadata": {},
   "outputs": [
    {
     "name": "stdout",
     "output_type": "stream",
     "text": [
      "8\n",
      "21\n"
     ]
    }
   ],
   "source": [
    "# Using iterative DP\n",
    "def fibbI(n):\n",
    "    dp = [0 for i in range(n+1)]\n",
    "    dp[0] = 0\n",
    "    dp[1] = 1\n",
    "    \n",
    "    i = 2\n",
    "    while i <= n:\n",
    "        dp[i] = dp[i-1] + dp[i-2]\n",
    "        i += 1\n",
    "        \n",
    "    return dp[n]\n",
    "\n",
    "n = int(input())\n",
    "print(fibbI(n))"
   ]
  },
  {
   "cell_type": "markdown",
   "id": "4b9d380f",
   "metadata": {},
   "source": [
    "## Minimum steps to 1"
   ]
  },
  {
   "cell_type": "code",
   "execution_count": 19,
   "id": "c15eb2c8",
   "metadata": {},
   "outputs": [
    {
     "name": "stdout",
     "output_type": "stream",
     "text": [
      "100\n",
      "7\n"
     ]
    }
   ],
   "source": [
    "# Recursive Solution\n",
    "def countMinStepsToOne(n):\n",
    "    #base case\n",
    "    if n == 1:\n",
    "        return 0\n",
    "    ans1 = countMinStepsToOne(n-1)\n",
    "    \n",
    "    ans2 = 999999\n",
    "    if n % 2 == 0:\n",
    "        ans2 = countMinStepsToOne(n/2)\n",
    "    \n",
    "    ans3 = 999999\n",
    "    if n % 3 == 0:\n",
    "        ans3 = countMinStepsToOne(n/3)\n",
    "    \n",
    "    myAns = 1 + min(ans1,ans2,ans3)\n",
    "    return myAns\n",
    "\n",
    "n = int(input())\n",
    "print(countMinStepsToOne(n))"
   ]
  },
  {
   "cell_type": "code",
   "execution_count": 21,
   "id": "2ad9c785",
   "metadata": {},
   "outputs": [
    {
     "name": "stdout",
     "output_type": "stream",
     "text": [
      "10\n",
      "3\n"
     ]
    }
   ],
   "source": [
    "# Using memoization with recursion\n",
    "def countMinStepsToOne(n,dp):\n",
    "    #base case\n",
    "    if n == 1:\n",
    "        return 0\n",
    "    \n",
    "    if dp[n-1] == -1:\n",
    "        ans1 = countMinStepsToOne(n-1,dp)\n",
    "        dp[n-1] = ans1\n",
    "    else:\n",
    "        ans1 = dp[n-1]\n",
    "    \n",
    "    ans2 = 999999\n",
    "    if n % 2 == 0:\n",
    "        if dp[n//2] == -1:\n",
    "            ans2 = countMinStepsToOne(n//2,dp)\n",
    "            dp[n//2] = ans2\n",
    "        else:\n",
    "            ans2 = dp[n//2]\n",
    "    \n",
    "    ans3 = 999999\n",
    "    if n % 3 == 0:\n",
    "        if dp[n//3] == -1:\n",
    "            ans3 = countMinStepsToOne(n//3,dp)\n",
    "            dp[n//3] = ans3\n",
    "        else:\n",
    "            ans3 = dp[n//3]\n",
    "    \n",
    "    myAns = 1 + min(ans1,ans2,ans3)\n",
    "    return myAns\n",
    "\n",
    "n = int(input())\n",
    "dp = [-1 for i in range(n)]\n",
    "print(countMinStepsToOne(n,dp))"
   ]
  },
  {
   "cell_type": "code",
   "execution_count": 24,
   "id": "bd363e8b",
   "metadata": {},
   "outputs": [
    {
     "name": "stdout",
     "output_type": "stream",
     "text": [
      "1000\n",
      "9\n"
     ]
    }
   ],
   "source": [
    "# Using Iterative solution with DP\n",
    "def countMinStepsToOne(n):\n",
    "    dp = [-1 for i in range(n+1)]\n",
    "    dp[1] = 0\n",
    "    i = 2\n",
    "    while i <= n:\n",
    "        ans1 = dp[i-1]\n",
    "        \n",
    "        ans2 = 999999\n",
    "        if i % 2 == 0:\n",
    "            ans2 = dp[i//2]\n",
    "        \n",
    "        ans3 = 999999\n",
    "        if i % 3 == 0:\n",
    "            ans3 = dp[i//3]\n",
    "            \n",
    "        dp[i] = 1 + min(ans1,ans2,ans3)\n",
    "        i += 1\n",
    "    return dp[n]\n",
    "    \n",
    "n = int(input())\n",
    "print(countMinStepsToOne(n))"
   ]
  },
  {
   "cell_type": "markdown",
   "id": "63f95f2b",
   "metadata": {},
   "source": [
    "## Minimum no. of squares to reach a given number n"
   ]
  },
  {
   "cell_type": "code",
   "execution_count": 37,
   "id": "4b8679ff",
   "metadata": {},
   "outputs": [
    {
     "name": "stdout",
     "output_type": "stream",
     "text": [
      "9\n",
      "1\n"
     ]
    }
   ],
   "source": [
    "# Recursive solution\n",
    "import sys\n",
    "def minSquares(n):\n",
    "    if n == 0:\n",
    "        return 0\n",
    "    ans = sys.maxsize\n",
    "    i = 1\n",
    "    while i*i <= n:\n",
    "        curr_ans = 1 + minSquares(n - (i*i))\n",
    "        ans = min(ans,curr_ans)\n",
    "        i += 1\n",
    "    return ans\n",
    "\n",
    "n = int(input())\n",
    "print(minSquares(n))"
   ]
  },
  {
   "cell_type": "code",
   "execution_count": 43,
   "id": "ff978498",
   "metadata": {},
   "outputs": [
    {
     "name": "stdout",
     "output_type": "stream",
     "text": [
      "3\n",
      "3\n"
     ]
    }
   ],
   "source": [
    "# Recursion with memoisation\n",
    "import sys\n",
    "def minSquares(n,dp):\n",
    "    if n == 0:\n",
    "        return 0\n",
    "    ans = sys.maxsize\n",
    "    i = 1\n",
    "    while i*i <= n:\n",
    "        if dp[n-(i*i)] == -1:\n",
    "            curr_ans = minSquares(n - (i*i),dp)\n",
    "            dp[n-(i*i)] = curr_ans\n",
    "        else:\n",
    "            curr_ans = dp[n-(i*i)]\n",
    "            \n",
    "        ans = min(ans,curr_ans)\n",
    "        i += 1\n",
    "    return 1 + ans\n",
    "\n",
    "n = int(input())\n",
    "dp = [-1 for i in range(n+1)]\n",
    "print(minSquares(n,dp))"
   ]
  },
  {
   "cell_type": "code",
   "execution_count": 50,
   "id": "f9c449c2",
   "metadata": {},
   "outputs": [
    {
     "name": "stdout",
     "output_type": "stream",
     "text": [
      "28\n",
      "4\n"
     ]
    }
   ],
   "source": [
    "# Iterative solution\n",
    "# O(nrootn)\n",
    "import sys\n",
    "def minSquares(n):\n",
    "    dp = [-1 for i in range(n+1)]\n",
    "    dp[0] = 0\n",
    "    for i in range(1,n+1):\n",
    "        j = 1\n",
    "        ans = sys.maxsize\n",
    "        while j*j <= i:\n",
    "            curr_ans = dp[i-(j*j)]\n",
    "            ans = min(ans,curr_ans)\n",
    "            j += 1\n",
    "        dp[i] = 1 + ans\n",
    "    return dp[n]\n",
    "\n",
    "n = int(input())\n",
    "print(minSquares(n))"
   ]
  },
  {
   "cell_type": "markdown",
   "id": "72259c74",
   "metadata": {},
   "source": [
    "## Length of longest increasing subsequence"
   ]
  },
  {
   "cell_type": "code",
   "execution_count": 56,
   "id": "5d519733",
   "metadata": {},
   "outputs": [
    {
     "name": "stdout",
     "output_type": "stream",
     "text": [
      "6 3 1 2 7 0 9 8 10\n",
      "5\n"
     ]
    }
   ],
   "source": [
    "# Recursive Solution\n",
    "def lis(li,i,n):\n",
    "    if i == n:\n",
    "        return 0,0\n",
    "    \n",
    "    including_max = 1\n",
    "    for j in range(i+1,n):\n",
    "        if li[j] > li[i]:\n",
    "            further_including_max = lis(li,j,n)[0]\n",
    "            including_max = max(including_max,1 + further_including_max)\n",
    "    \n",
    "    excluding_max = lis(li,i+1,n)[1]\n",
    "    overallMax = max(including_max,excluding_max)\n",
    "    return including_max,overallMax\n",
    "\n",
    "li = [int(ele) for ele in input().split()]\n",
    "n = len(li)\n",
    "ans = lis(li,0,n)[1]\n",
    "print(ans)"
   ]
  },
  {
   "cell_type": "code",
   "execution_count": 85,
   "id": "cedec9ac",
   "metadata": {},
   "outputs": [
    {
     "name": "stdout",
     "output_type": "stream",
     "text": [
      "6 3 1 2 7 0 9 8\n",
      "4\n"
     ]
    }
   ],
   "source": [
    "# Recursive Solution with Memoisation\n",
    "def lis(li,i,n,dp):\n",
    "    if i == n:\n",
    "        return 0,0\n",
    "    \n",
    "    including_max = 1\n",
    "    for j in range(i+1,n):\n",
    "        if li[j] > li[i]:\n",
    "            if dp[j] == -1:\n",
    "                ans = lis(li,j,n,dp)\n",
    "                dp[j] = ans\n",
    "                further_including_max = ans[0]\n",
    "            else:\n",
    "                further_including_max = dp[j][0]\n",
    "            \n",
    "            including_max = max(including_max,1 + further_including_max)\n",
    "    if dp[i+1] == -1:\n",
    "        ans = lis(li,i+1,n,dp)\n",
    "        dp[i+1] = ans\n",
    "        excluding_max = ans[1]\n",
    "    else:\n",
    "        excluding_max = dp[i+1][1]\n",
    "    \n",
    "    overallMax = max(including_max,excluding_max)\n",
    "    return including_max,overallMax\n",
    "\n",
    "li = [int(ele) for ele in input().split()]\n",
    "n = len(li)\n",
    "dp = [-1 for i in range(n+1)]\n",
    "ans = lis(li,0,n,dp)[1]\n",
    "print(ans)"
   ]
  },
  {
   "cell_type": "code",
   "execution_count": 88,
   "id": "0cc81486",
   "metadata": {},
   "outputs": [
    {
     "name": "stdout",
     "output_type": "stream",
     "text": [
      "6 0 3 2 7 0 9 8\n",
      "4\n"
     ]
    }
   ],
   "source": [
    "# Iterative Solution\n",
    "def lis(li,n):\n",
    "    \n",
    "    dp=[[0 for j in range(2) ]for i in range(n+1)]\n",
    "    \n",
    "    for i in range(n-1,-1,-1):\n",
    "        including_max=1\n",
    "        for j in range(i+1,n):\n",
    "            if li[j]>li[i]:\n",
    "                including_max=max(including_max,1+dp[j][0])\n",
    "        dp[i][0]=including_max\n",
    "        excluding_max=dp[i+1][1]\n",
    "        overallMax=max(including_max,excluding_max)\n",
    "        dp[i][1]=overallMax\n",
    "    return dp[0][1]\n",
    "\n",
    "li = [int(ele) for ele in input().split()]\n",
    "n = len(li)\n",
    "print(lis(li,n))"
   ]
  },
  {
   "cell_type": "markdown",
   "id": "3af3bfd5",
   "metadata": {},
   "source": [
    "## Another approach as per hint"
   ]
  },
  {
   "cell_type": "code",
   "execution_count": 68,
   "id": "f60662b6",
   "metadata": {},
   "outputs": [
    {
     "name": "stdout",
     "output_type": "stream",
     "text": [
      "1 2 2\n",
      "2 1\n",
      "1\n"
     ]
    }
   ],
   "source": [
    "def lis(li,n):\n",
    "    dp = [-1 for i in range(n+1)]\n",
    "    dp[1] = 1\n",
    "    for i in range(2,n):\n",
    "        ans = -999999\n",
    "        for j in range(i-1,0,-1):\n",
    "            print(i,j)\n",
    "            if li[i] > li[j]:\n",
    "                curr_ans = 1 + dp[j]\n",
    "            else:\n",
    "                curr_ans = dp[j]\n",
    "            ans = max(ans,curr_ans)\n",
    "        dp[i] = ans\n",
    "    return max(dp)\n",
    "\n",
    "li = [int(ele) for ele in input().split()]\n",
    "print(lis(li,len(li)))"
   ]
  },
  {
   "cell_type": "code",
   "execution_count": 62,
   "id": "143c5abd",
   "metadata": {},
   "outputs": [
    {
     "data": {
      "text/plain": [
       "5"
      ]
     },
     "execution_count": 62,
     "metadata": {},
     "output_type": "execute_result"
    }
   ],
   "source": [
    "max([3,1,2,5])"
   ]
  },
  {
   "cell_type": "code",
   "execution_count": 84,
   "id": "0838b83e",
   "metadata": {},
   "outputs": [
    {
     "name": "stdout",
     "output_type": "stream",
     "text": [
      "1 2 3 1 2\n",
      "3\n"
     ]
    }
   ],
   "source": [
    "def lis(li,n):\n",
    "    dp = [-1 for i in range(n)]\n",
    "    dp[0] = 1\n",
    "#     dp[1] = 1\n",
    "    for i in range(1,n):\n",
    "        ans = 0\n",
    "        for j in range(i-1,-1,-1):\n",
    "            if li[i] > li[j]:\n",
    "                curr_ans = 1 + dp[j]\n",
    "                if curr_ans > ans:\n",
    "                    ans = curr_ans\n",
    "#             ans = max(ans,curr_ans)\n",
    "        dp[i] = ans\n",
    "#     print(dp)\n",
    "    return max(dp)\n",
    "\n",
    "li = [int(ele) for ele in input().split()]\n",
    "print(lis(li,len(li)))"
   ]
  },
  {
   "cell_type": "markdown",
   "id": "11d85e7d",
   "metadata": {},
   "source": [
    "## Minimum Cost Path"
   ]
  },
  {
   "cell_type": "code",
   "execution_count": 90,
   "id": "e22f1c8a",
   "metadata": {},
   "outputs": [
    {
     "name": "stdout",
     "output_type": "stream",
     "text": [
      "30\n"
     ]
    }
   ],
   "source": [
    "# From (0,0) reach the point(m-1,n-1) using the 3 different paths and calculate the min cost of the path\n",
    "# Recursive solution\n",
    "import sys\n",
    "def minCostPath(input, mRows, nCols,i=0,j=0) :\n",
    "    # Base case\n",
    "    if i == mRows or j == nCols:\n",
    "        return sys.maxsize\n",
    "    # Special Case\n",
    "    if i == mRows-1 and j == nCols-1:\n",
    "        return input[i][j]\n",
    "    path1 = input[i][j] + minCostPath(input,mRows,nCols,i+1,j)\n",
    "    path2 = input[i][j] + minCostPath(input,mRows,nCols,i,j+1)\n",
    "    path3 = input[i][j] + minCostPath(input,mRows,nCols,i+1,j+1)\n",
    "    return min(path1,path2,path3)\n",
    "\n",
    "cost = [[1,5,11],[8,13,12],[2,3,7],[15,16,18]]\n",
    "print(minCostPath(cost,4,3))"
   ]
  },
  {
   "cell_type": "code",
   "execution_count": 99,
   "id": "aee32fcd",
   "metadata": {},
   "outputs": [
    {
     "name": "stdout",
     "output_type": "stream",
     "text": [
      "30\n"
     ]
    }
   ],
   "source": [
    "# Using recursion with memoization\n",
    "import sys\n",
    "def minCostPath(input, mRows, nCols,dp,i=0,j=0) :\n",
    "    # Base case\n",
    "    if i == mRows or j == nCols:\n",
    "        return sys.maxsize\n",
    "    # Special Case\n",
    "    if i == mRows-1 and j == nCols-1:\n",
    "        return input[i][j]\n",
    "    \n",
    "    if dp[i+1][j] == sys.maxsize:\n",
    "        path1 = minCostPath(input,mRows,nCols,dp,i+1,j)\n",
    "        dp[i+1][j] = path1\n",
    "    else:\n",
    "        path1 = dp[i+1][j]\n",
    "    \n",
    "    if dp[i][j+1] == sys.maxsize:\n",
    "        path2 = minCostPath(input,mRows,nCols,dp,i,j+1)\n",
    "        dp[i][j+1] = path2\n",
    "    else:\n",
    "        path2 = dp[i][j+1]\n",
    "    \n",
    "    if dp[i+1][j+1] == sys.maxsize:    \n",
    "        path3 = minCostPath(input,mRows,nCols,dp,i+1,j+1)\n",
    "        dp[i+1][j+1] = path3\n",
    "    else:\n",
    "        path3 = dp[i+1][j+1]\n",
    "    \n",
    "    path = input[i][j] + min(path1,path2,path3)\n",
    "    return path\n",
    "\n",
    "cost = [[1,5,11],[8,13,12],[2,3,7],[15,16,18]]\n",
    "dp = [[sys.maxsize for j in range(4)] for i in range(5)]\n",
    "print(minCostPath(cost,4,3,dp))"
   ]
  },
  {
   "cell_type": "code",
   "execution_count": 100,
   "id": "1364dfdd",
   "metadata": {},
   "outputs": [
    {
     "name": "stdout",
     "output_type": "stream",
     "text": [
      "30\n"
     ]
    }
   ],
   "source": [
    "# Iterative Solution\n",
    "import sys\n",
    "def minCostPath(input,mRows,nCols):\n",
    "    dp = [[sys.maxsize for j in range(nCols+1)] for i in range(mRows+1)]\n",
    "    dp[mRows-1][nCols-1] = input[mRows-1][nCols-1]\n",
    "    for i in range(mRows-1,-1,-1):\n",
    "        for j in range(nCols-1,-1,-1):\n",
    "            if i == mRows-1 and j == nCols-1:\n",
    "                continue\n",
    "            ans = min(dp[i+1][j],dp[i][j+1],dp[i+1][j+1])\n",
    "            dp[i][j] = input[i][j] + ans\n",
    "    return dp[0][0]\n",
    "\n",
    "cost = [[1,5,11],[8,13,12],[2,3,7],[15,16,18]]\n",
    "print(minCostPath(cost,4,3))"
   ]
  },
  {
   "cell_type": "markdown",
   "id": "c4c8fed2",
   "metadata": {},
   "source": [
    "## Longest common subsequence of 2 strings"
   ]
  },
  {
   "cell_type": "code",
   "execution_count": 101,
   "id": "22fa14d5",
   "metadata": {},
   "outputs": [
    {
     "name": "stdout",
     "output_type": "stream",
     "text": [
      "abcrfdgdsafaaf\n",
      "dgdafsa\n",
      "6\n"
     ]
    }
   ],
   "source": [
    "# Recursive Solution\n",
    "def lcs(s, t,i=0,j=0) :\n",
    "\t#Your code goes here\n",
    "\tif i == len(s) or j == len(t):\n",
    "\t\treturn 0\n",
    "\n",
    "\tif s[i] == t[j]:\n",
    "\t\treturn 1 + lcs(s,t,i+1,j+1)\n",
    "\telse:\n",
    "\t\tans1 = lcs(s,t,i+1,j)\n",
    "\t\tans2 = lcs(s,t,i,j+1)\n",
    "\t\treturn max(ans1,ans2)\n",
    "\n",
    "s = input()\n",
    "t = input()\n",
    "print(lcs(s,t))"
   ]
  },
  {
   "cell_type": "code",
   "execution_count": 105,
   "id": "4be8da2e",
   "metadata": {},
   "outputs": [
    {
     "name": "stdout",
     "output_type": "stream",
     "text": [
      "abcdb\n",
      "bcacdhb\n",
      "4\n"
     ]
    }
   ],
   "source": [
    "# Recursion with memoization\n",
    "def lcs(s, t,dp,i=0,j=0) :\n",
    "    #Your code goes here\n",
    "    if i == len(s) or j == len(t):\n",
    "        return 0\n",
    "    \n",
    "    if s[i] == t[j]:\n",
    "        if dp[i+1][j+1] == -1:\n",
    "            ans = lcs(s,t,dp,i+1,j+1)\n",
    "            dp[i+1][j+1] = ans\n",
    "        else:\n",
    "            ans = dp[i+1][j+1]\n",
    "        return 1 + ans\n",
    "\n",
    "    else:\n",
    "        if dp[i+1][j] == -1:\n",
    "            ans1 = lcs(s,t,dp,i+1,j)\n",
    "            dp[i+1][j] = ans1\n",
    "        else:\n",
    "            ans1 = dp[i+1][j]\n",
    "        \n",
    "        if dp[i][j+1] == -1:\n",
    "            ans2 = lcs(s,t,dp,i,j+1)\n",
    "            dp[i][j+1] = ans2\n",
    "        else:\n",
    "            ans2 = dp[i][j+1]\n",
    "        \n",
    "        return max(ans1,ans2)\n",
    "\n",
    "s = input()\n",
    "t = input()\n",
    "m = len(s)\n",
    "n = len(t)\n",
    "dp = [[-1 for j in range(n+1)] for i in range(m+1)]\n",
    "print(lcs(s,t,dp))"
   ]
  },
  {
   "cell_type": "code",
   "execution_count": 108,
   "id": "4018166f",
   "metadata": {},
   "outputs": [
    {
     "name": "stdout",
     "output_type": "stream",
     "text": [
      "abcdb\n",
      "bcacdhb\n",
      "4\n"
     ]
    }
   ],
   "source": [
    "# Iterative Solution\n",
    "def lcs(s,t):\n",
    "    m = len(s)\n",
    "    n = len(t)\n",
    "    dp = [[-1 for j in range(n+1)] for i in range(m+1)]\n",
    "    for i in range(m,-1,-1):\n",
    "        for j in range(n,-1,-1):\n",
    "            if i == m or j == n:\n",
    "                dp[i][j] = 0\n",
    "            else:\n",
    "                if s[i] == t[j]:\n",
    "                    dp[i][j] = 1 + dp[i+1][j+1]\n",
    "                else:\n",
    "                    dp[i][j] = max(dp[i+1][j],dp[i][j+1])\n",
    "    return dp[0][0]\n",
    "\n",
    "s = input()\n",
    "t = input()\n",
    "print(lcs(s,t))"
   ]
  }
 ],
 "metadata": {
  "kernelspec": {
   "display_name": "Python 3 (ipykernel)",
   "language": "python",
   "name": "python3"
  },
  "language_info": {
   "codemirror_mode": {
    "name": "ipython",
    "version": 3
   },
   "file_extension": ".py",
   "mimetype": "text/x-python",
   "name": "python",
   "nbconvert_exporter": "python",
   "pygments_lexer": "ipython3",
   "version": "3.9.12"
  }
 },
 "nbformat": 4,
 "nbformat_minor": 5
}
